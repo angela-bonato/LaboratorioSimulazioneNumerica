import matplotlib
import matplotlib.pyplot as plt
import numpy as np
import math








M=10000  #numero totale di estrazioni del generatore
N=100  #numero di blocchi
L=int(M/N)  #numero di estrazioni per blocco
x=np.arange(N)+1  #vettore delle ascisse dei punti plottati
x*=L  #in questo modo sulle ascisse metto il numero di estrazioni totali a cui corrisponde l'ultima estrazione del blocco plottato

ay=np.loadtxt("average.dat", delimiter=" ", usecols=0,  unpack="true")  #vettore delle ordinate dei punti plottati
aerrorbars=np.loadtxt("average.dat", delimiter=" ", usecols=1, unpack="true")  #vettore delle barre d'errore dei punti plottati

plt.errorbar(x, ay, yerr=aerrorbars)
plt.axhline(y=0.5, color="mediumvioletred", label="Valore atteso", alpha=0.7)
plt.xlabel("Estrazioni")
plt.ylabel(r"$\left<r\right>$")
plt.title(r"Stima di $\left<r\right>$")
plt.grid(True)
plt.legend()
plt.show()





vy=np.loadtxt("variance.dat", delimiter=" ", usecols=0,  unpack="true")  #vettore delle ordinate dei punti plottati
verrorbars=np.loadtxt("variance.dat", delimiter=" ", usecols=1, unpack="true")  #vettore delle barre d'errore dei punti plottati

plt.errorbar(x, vy, yerr=verrorbars)
plt.axhline(y=1/12, color="mediumvioletred", label="Valore atteso", alpha=0.7)
plt.xlabel("Estrazioni")
plt.ylabel(r"$\left< \left( r-\frac{1}{2} \right) ^2 \right> $")
plt.title(r"Stima di $\sigma^2$")
plt.grid(True)
plt.legend()
plt.show()





Mchi=100  #numero intervalli considerati
cx=np.arange(Mchi)  #vettore con le ascisse del plot
cy=np.loadtxt("chiquad.dat", delimiter=" ", usecols=0,  unpack="true")  #vettore con le ordinate del plot

plt.plot(cx, cy, marker='o', markersize=2.5, linewidth=0.7)
plt.axhline(y=100, color="mediumvioletred", label="Valore atteso", alpha=0.7)
plt.xlabel("j")
plt.ylabel(r"$\chi^2_j$")
plt.title(r"Test del $\chi^2$")
plt.grid(True)
plt.legend()
plt.show()



