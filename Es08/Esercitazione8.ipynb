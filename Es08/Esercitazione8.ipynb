{
 "cells": [
  {
   "cell_type": "code",
   "execution_count": 1,
   "id": "d4f8973c-cd1c-46a4-a0ae-ebf859c480fb",
   "metadata": {},
   "outputs": [],
   "source": [
    "import matplotlib as plt\n",
    "import numpy as np"
   ]
  },
  {
   "cell_type": "markdown",
   "id": "fe79477d-61b8-4971-b1c4-919dfc73c7dd",
   "metadata": {},
   "source": [
    "# Esercitazione 8"
   ]
  },
  {
   "cell_type": "markdown",
   "id": "5b356d2f-4c03-497e-a1ef-592a74dd5dc2",
   "metadata": {},
   "source": [
    "La mia funzione target è \n",
    "\n",
    "$\\Psi_T^{\\sigma,\\mu}(x) = e^{-\\frac{(x-\\mu)^2}{2\\sigma^2}}+e^{-\\frac{(x+\\mu)^2}{2\\sigma^2}}$. \n",
    "\n",
    "Io però devo fare sampling Monte Carlo di \n",
    "\n",
    "$\\rho^{\\sigma, \\mu} (x)=\\frac{|\\Psi_T(x)|^2}{\\int dx |\\Psi_T(x)|^2}$, \n",
    "\n",
    "dove l'integrale al denominatore calcolato a mano (integrale Gaussiano) esce\n",
    "\n",
    "$\\int_{-\\infty}^{\\infty} dx |\\Psi_T(x)|^2 = 2 \\sigma \\sqrt{\\pi} \\left( 1+ e^{- \\frac{\\mu^2}{\\sigma^2}} \\right) $.\n",
    "\n",
    "L'obbliettivo è calcolare \n",
    "\n",
    "$$\n",
    "\\langle {\\hat H} \\rangle_T = \\int dx \\rho^{\\sigma, \\mu} (x) \\frac{{\\hat H} \\Psi_T(x)}{\\Psi_T(x)} = \\int dx \\rho^{\\sigma, \\mu} (x) \\left( x^4 - \\frac{5}{2}x^2 + \\frac{{-\\frac{\\hbar^2}{2m}\\frac{\\partial^2}{\\partial x^2}} \\Psi_T^{\\sigma,\\mu}(x)}{\\Psi_T^{\\sigma,\\mu}(x)} \\right) = \\int dx \\rho^{\\sigma, \\mu} (x) g^{\\sigma, \\mu} (x)\\, ,\n",
    "$$\n",
    "\n",
    "dove \n",
    "\n",
    "$$\n",
    "\\frac{\\partial^2}{\\partial x^2} \\Psi_T^{\\sigma,\\mu}(x) = \\frac{1}{\\sigma^2}e^{-\\frac{(x-\\mu)^2}{2\\sigma^2}} \\left( -1 + \\frac{(x-\\mu)^2}{\\sigma^2}\\right) + \\frac{1}{\\sigma^2}e^{-\\frac{(x+\\mu)^2}{2\\sigma^2}} \\left( -1 + \\frac{(x+\\mu)^2}{\\sigma^2}\\right)\\, .\n",
    "$$\n",
    "\n",
    "Il calcolo va fatto con il variational Monte Carlo, i.e., si fa un sampling di $\\rho^{\\sigma, \\mu} (x)$ tramite un normale algoritmo MC (Metropolis), si usano le $x$ così generate per calcolare $g^{\\sigma, \\mu} (x)$ e poi il valor medio di $g^{\\sigma, \\mu} (x)$ si interpreta come stima di $\\langle {\\hat H} \\rangle_T$.\n",
    "\n",
    "Guardando il plot del prof per es 8.1 fisso $\\mu=0.9$ e $\\sigma=-0.7$ (NO, RICONTROLLA!!), mentre l'obbiettivo dell'8.2 è trovare con simulating anniling i valori più opportuni per i due parametri. Considera $\\hbar=m=1$."
   ]
  },
  {
   "cell_type": "markdown",
   "id": "0e4b8e39-cd0c-42a5-9529-b61b1eb326b0",
   "metadata": {},
   "source": [
    "## Esercizio 8.1"
   ]
  },
  {
   "cell_type": "code",
   "execution_count": null,
   "id": "77176fa4-ae7c-44f5-8139-770c46fb1013",
   "metadata": {},
   "outputs": [],
   "source": []
  },
  {
   "cell_type": "markdown",
   "id": "c9b3d9ab-7720-43fa-8685-0b770090677a",
   "metadata": {},
   "source": [
    "## Esercizio 8.2"
   ]
  },
  {
   "cell_type": "code",
   "execution_count": null,
   "id": "3a0775d9-fe46-4cff-9a85-3ec06c6065c3",
   "metadata": {},
   "outputs": [],
   "source": []
  },
  {
   "cell_type": "code",
   "execution_count": null,
   "id": "7642d2ff-53f7-45cb-af7f-0be935591053",
   "metadata": {},
   "outputs": [],
   "source": []
  },
  {
   "cell_type": "code",
   "execution_count": null,
   "id": "4a56827c-a379-4b63-879d-b874a18559dd",
   "metadata": {},
   "outputs": [],
   "source": []
  }
 ],
 "metadata": {
  "kernelspec": {
   "display_name": "Python 3 (ipykernel)",
   "language": "python",
   "name": "python3"
  },
  "language_info": {
   "codemirror_mode": {
    "name": "ipython",
    "version": 3
   },
   "file_extension": ".py",
   "mimetype": "text/x-python",
   "name": "python",
   "nbconvert_exporter": "python",
   "pygments_lexer": "ipython3",
   "version": "3.11.7"
  }
 },
 "nbformat": 4,
 "nbformat_minor": 5
}
